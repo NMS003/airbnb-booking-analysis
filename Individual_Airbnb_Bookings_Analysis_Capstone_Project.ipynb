{
  "nbformat": 4,
  "nbformat_minor": 0,
  "metadata": {
    "kernelspec": {
      "display_name": "Python 3",
      "language": "python",
      "name": "python3"
    },
    "language_info": {
      "codemirror_mode": {
        "name": "ipython",
        "version": 3
      },
      "file_extension": ".py",
      "mimetype": "text/x-python",
      "name": "python",
      "nbconvert_exporter": "python",
      "pygments_lexer": "ipython3",
      "version": "3.6.6"
    },
    "colab": {
      "provenance": [],
      "collapsed_sections": [],
      "include_colab_link": true
    }
  },
  "cells": [
    {
      "cell_type": "markdown",
      "metadata": {
        "id": "view-in-github",
        "colab_type": "text"
      },
      "source": [
        "<a href=\"https://colab.research.google.com/github/NMS003/airbnb-booking-analysis/blob/main/Individual_Airbnb_Bookings_Analysis_Capstone_Project.ipynb\" target=\"_parent\"><img src=\"https://colab.research.google.com/assets/colab-badge.svg\" alt=\"Open In Colab\"/></a>"
      ]
    },
    {
      "cell_type": "markdown",
      "metadata": {
        "id": "Y06xIdG26kRF"
      },
      "source": [
        "## <b> Since 2008, guests and hosts have used Airbnb to expand on traveling possibilities and present a more unique, personalized way of experiencing the world. Today, Airbnb became one of a kind service that is used and recognized by the whole world. Data analysis on millions of listings provided through Airbnb is a crucial factor for the company. These millions of listings generate a lot of data - data that can be analyzed and used for security, business decisions, understanding of customers' and providers' (hosts) behavior and performance on the platform, guiding marketing initiatives, implementation of innovative additional services and much more. </b>\n",
        "\n",
        "## <b>This dataset has around 49,000 observations in it with 16 columns and it is a mix between categorical and numeric values. </b>\n",
        "\n",
        "## <b> Explore and analyze the data to discover key understandings (not limited to these) such as : \n",
        "* What can we learn about different hosts and areas?\n",
        "* What can we learn from predictions? (ex: locations, prices, reviews, etc)\n",
        "* Which hosts are the busiest and why?\n",
        "* Is there any noticeable difference of traffic among different areas and what could be the reason for it? </b>"
      ]
    },
    {
      "cell_type": "code",
      "metadata": {
        "id": "dByMsuzT8Tnw"
      },
      "source": [
        "import pandas as pd\n",
        "import numpy as np\n",
        "import matplotlib.pyplot as plt\n",
        "import seaborn as sns\n"
      ],
      "execution_count": null,
      "outputs": []
    },
    {
      "cell_type": "code",
      "source": [],
      "metadata": {
        "id": "4ZyxmCHrVImA"
      },
      "execution_count": null,
      "outputs": []
    },
    {
      "cell_type": "code",
      "source": [
        "from google.colab import drive\n",
        "drive.mount('/content/drive')"
      ],
      "metadata": {
        "colab": {
          "base_uri": "https://localhost:8080/"
        },
        "id": "VokfsSiRVelF",
        "outputId": "bd6be830-f1eb-4eaf-ceaa-7d99bd315024"
      },
      "execution_count": null,
      "outputs": [
        {
          "output_type": "stream",
          "name": "stdout",
          "text": [
            "Mounted at /content/drive\n"
          ]
        }
      ]
    },
    {
      "cell_type": "code",
      "source": [
        "airbnb_data=pd.read_csv('/content/drive/MyDrive/Colab Notebooks/Airbnb NYC 2019.csv')\n"
      ],
      "metadata": {
        "id": "DvIVQnEZVgrF"
      },
      "execution_count": null,
      "outputs": []
    },
    {
      "cell_type": "markdown",
      "source": [],
      "metadata": {
        "id": "u7D_fASfYM4z"
      }
    },
    {
      "cell_type": "markdown",
      "source": [
        "**Given Data**"
      ],
      "metadata": {
        "id": "1OMwnS7EYM6u"
      }
    },
    {
      "cell_type": "code",
      "source": [
        "airbnb_data.shape\n"
      ],
      "metadata": {
        "colab": {
          "base_uri": "https://localhost:8080/"
        },
        "id": "XI70dejiXOTE",
        "outputId": "fcb11bed-dc2d-4072-dc3a-87de782f1ee3"
      },
      "execution_count": null,
      "outputs": [
        {
          "output_type": "execute_result",
          "data": {
            "text/plain": [
              "(48895, 16)"
            ]
          },
          "metadata": {},
          "execution_count": 9
        }
      ]
    },
    {
      "cell_type": "markdown",
      "source": [
        "**summary of data**\n"
      ],
      "metadata": {
        "id": "2_9KgoRTYoex"
      }
    },
    {
      "cell_type": "code",
      "source": [
        "airbnb_data.dtypes\n"
      ],
      "metadata": {
        "colab": {
          "base_uri": "https://localhost:8080/"
        },
        "id": "bIbflPjHYwBS",
        "outputId": "51db6e6b-de44-40dd-fc20-5d4513d6db47"
      },
      "execution_count": null,
      "outputs": [
        {
          "output_type": "execute_result",
          "data": {
            "text/plain": [
              "id                                  int64\n",
              "name                               object\n",
              "host_id                             int64\n",
              "host_name                          object\n",
              "neighbourhood_group                object\n",
              "neighbourhood                      object\n",
              "latitude                          float64\n",
              "longitude                         float64\n",
              "room_type                          object\n",
              "price                               int64\n",
              "minimum_nights                      int64\n",
              "number_of_reviews                   int64\n",
              "last_review                        object\n",
              "reviews_per_month                 float64\n",
              "calculated_host_listings_count      int64\n",
              "availability_365                    int64\n",
              "dtype: object"
            ]
          },
          "metadata": {},
          "execution_count": 10
        }
      ]
    },
    {
      "cell_type": "code",
      "source": [
        "airbnb_data.head()\n",
        "\n"
      ],
      "metadata": {
        "colab": {
          "base_uri": "https://localhost:8080/",
          "height": 461
        },
        "id": "2nkXMJhCZdzr",
        "outputId": "1fa31f79-80ca-4525-8958-492b7becf1d5"
      },
      "execution_count": null,
      "outputs": [
        {
          "output_type": "execute_result",
          "data": {
            "text/plain": [
              "     id                                              name  host_id  \\\n",
              "0  2539                Clean & quiet apt home by the park     2787   \n",
              "1  2595                             Skylit Midtown Castle     2845   \n",
              "2  3647               THE VILLAGE OF HARLEM....NEW YORK !     4632   \n",
              "3  3831                   Cozy Entire Floor of Brownstone     4869   \n",
              "4  5022  Entire Apt: Spacious Studio/Loft by central park     7192   \n",
              "\n",
              "     host_name neighbourhood_group neighbourhood  latitude  longitude  \\\n",
              "0         John            Brooklyn    Kensington  40.64749  -73.97237   \n",
              "1     Jennifer           Manhattan       Midtown  40.75362  -73.98377   \n",
              "2    Elisabeth           Manhattan        Harlem  40.80902  -73.94190   \n",
              "3  LisaRoxanne            Brooklyn  Clinton Hill  40.68514  -73.95976   \n",
              "4        Laura           Manhattan   East Harlem  40.79851  -73.94399   \n",
              "\n",
              "         room_type  price  minimum_nights  number_of_reviews last_review  \\\n",
              "0     Private room    149               1                  9  2018-10-19   \n",
              "1  Entire home/apt    225               1                 45  2019-05-21   \n",
              "2     Private room    150               3                  0         NaN   \n",
              "3  Entire home/apt     89               1                270  2019-07-05   \n",
              "4  Entire home/apt     80              10                  9  2018-11-19   \n",
              "\n",
              "   reviews_per_month  calculated_host_listings_count  availability_365  \n",
              "0               0.21                               6               365  \n",
              "1               0.38                               2               355  \n",
              "2                NaN                               1               365  \n",
              "3               4.64                               1               194  \n",
              "4               0.10                               1                 0  "
            ],
            "text/html": [
              "\n",
              "  <div id=\"df-f91a3c01-3a7e-4e25-a1c8-46d1a608b661\">\n",
              "    <div class=\"colab-df-container\">\n",
              "      <div>\n",
              "<style scoped>\n",
              "    .dataframe tbody tr th:only-of-type {\n",
              "        vertical-align: middle;\n",
              "    }\n",
              "\n",
              "    .dataframe tbody tr th {\n",
              "        vertical-align: top;\n",
              "    }\n",
              "\n",
              "    .dataframe thead th {\n",
              "        text-align: right;\n",
              "    }\n",
              "</style>\n",
              "<table border=\"1\" class=\"dataframe\">\n",
              "  <thead>\n",
              "    <tr style=\"text-align: right;\">\n",
              "      <th></th>\n",
              "      <th>id</th>\n",
              "      <th>name</th>\n",
              "      <th>host_id</th>\n",
              "      <th>host_name</th>\n",
              "      <th>neighbourhood_group</th>\n",
              "      <th>neighbourhood</th>\n",
              "      <th>latitude</th>\n",
              "      <th>longitude</th>\n",
              "      <th>room_type</th>\n",
              "      <th>price</th>\n",
              "      <th>minimum_nights</th>\n",
              "      <th>number_of_reviews</th>\n",
              "      <th>last_review</th>\n",
              "      <th>reviews_per_month</th>\n",
              "      <th>calculated_host_listings_count</th>\n",
              "      <th>availability_365</th>\n",
              "    </tr>\n",
              "  </thead>\n",
              "  <tbody>\n",
              "    <tr>\n",
              "      <th>0</th>\n",
              "      <td>2539</td>\n",
              "      <td>Clean &amp; quiet apt home by the park</td>\n",
              "      <td>2787</td>\n",
              "      <td>John</td>\n",
              "      <td>Brooklyn</td>\n",
              "      <td>Kensington</td>\n",
              "      <td>40.64749</td>\n",
              "      <td>-73.97237</td>\n",
              "      <td>Private room</td>\n",
              "      <td>149</td>\n",
              "      <td>1</td>\n",
              "      <td>9</td>\n",
              "      <td>2018-10-19</td>\n",
              "      <td>0.21</td>\n",
              "      <td>6</td>\n",
              "      <td>365</td>\n",
              "    </tr>\n",
              "    <tr>\n",
              "      <th>1</th>\n",
              "      <td>2595</td>\n",
              "      <td>Skylit Midtown Castle</td>\n",
              "      <td>2845</td>\n",
              "      <td>Jennifer</td>\n",
              "      <td>Manhattan</td>\n",
              "      <td>Midtown</td>\n",
              "      <td>40.75362</td>\n",
              "      <td>-73.98377</td>\n",
              "      <td>Entire home/apt</td>\n",
              "      <td>225</td>\n",
              "      <td>1</td>\n",
              "      <td>45</td>\n",
              "      <td>2019-05-21</td>\n",
              "      <td>0.38</td>\n",
              "      <td>2</td>\n",
              "      <td>355</td>\n",
              "    </tr>\n",
              "    <tr>\n",
              "      <th>2</th>\n",
              "      <td>3647</td>\n",
              "      <td>THE VILLAGE OF HARLEM....NEW YORK !</td>\n",
              "      <td>4632</td>\n",
              "      <td>Elisabeth</td>\n",
              "      <td>Manhattan</td>\n",
              "      <td>Harlem</td>\n",
              "      <td>40.80902</td>\n",
              "      <td>-73.94190</td>\n",
              "      <td>Private room</td>\n",
              "      <td>150</td>\n",
              "      <td>3</td>\n",
              "      <td>0</td>\n",
              "      <td>NaN</td>\n",
              "      <td>NaN</td>\n",
              "      <td>1</td>\n",
              "      <td>365</td>\n",
              "    </tr>\n",
              "    <tr>\n",
              "      <th>3</th>\n",
              "      <td>3831</td>\n",
              "      <td>Cozy Entire Floor of Brownstone</td>\n",
              "      <td>4869</td>\n",
              "      <td>LisaRoxanne</td>\n",
              "      <td>Brooklyn</td>\n",
              "      <td>Clinton Hill</td>\n",
              "      <td>40.68514</td>\n",
              "      <td>-73.95976</td>\n",
              "      <td>Entire home/apt</td>\n",
              "      <td>89</td>\n",
              "      <td>1</td>\n",
              "      <td>270</td>\n",
              "      <td>2019-07-05</td>\n",
              "      <td>4.64</td>\n",
              "      <td>1</td>\n",
              "      <td>194</td>\n",
              "    </tr>\n",
              "    <tr>\n",
              "      <th>4</th>\n",
              "      <td>5022</td>\n",
              "      <td>Entire Apt: Spacious Studio/Loft by central park</td>\n",
              "      <td>7192</td>\n",
              "      <td>Laura</td>\n",
              "      <td>Manhattan</td>\n",
              "      <td>East Harlem</td>\n",
              "      <td>40.79851</td>\n",
              "      <td>-73.94399</td>\n",
              "      <td>Entire home/apt</td>\n",
              "      <td>80</td>\n",
              "      <td>10</td>\n",
              "      <td>9</td>\n",
              "      <td>2018-11-19</td>\n",
              "      <td>0.10</td>\n",
              "      <td>1</td>\n",
              "      <td>0</td>\n",
              "    </tr>\n",
              "  </tbody>\n",
              "</table>\n",
              "</div>\n",
              "      <button class=\"colab-df-convert\" onclick=\"convertToInteractive('df-f91a3c01-3a7e-4e25-a1c8-46d1a608b661')\"\n",
              "              title=\"Convert this dataframe to an interactive table.\"\n",
              "              style=\"display:none;\">\n",
              "        \n",
              "  <svg xmlns=\"http://www.w3.org/2000/svg\" height=\"24px\"viewBox=\"0 0 24 24\"\n",
              "       width=\"24px\">\n",
              "    <path d=\"M0 0h24v24H0V0z\" fill=\"none\"/>\n",
              "    <path d=\"M18.56 5.44l.94 2.06.94-2.06 2.06-.94-2.06-.94-.94-2.06-.94 2.06-2.06.94zm-11 1L8.5 8.5l.94-2.06 2.06-.94-2.06-.94L8.5 2.5l-.94 2.06-2.06.94zm10 10l.94 2.06.94-2.06 2.06-.94-2.06-.94-.94-2.06-.94 2.06-2.06.94z\"/><path d=\"M17.41 7.96l-1.37-1.37c-.4-.4-.92-.59-1.43-.59-.52 0-1.04.2-1.43.59L10.3 9.45l-7.72 7.72c-.78.78-.78 2.05 0 2.83L4 21.41c.39.39.9.59 1.41.59.51 0 1.02-.2 1.41-.59l7.78-7.78 2.81-2.81c.8-.78.8-2.07 0-2.86zM5.41 20L4 18.59l7.72-7.72 1.47 1.35L5.41 20z\"/>\n",
              "  </svg>\n",
              "      </button>\n",
              "      \n",
              "  <style>\n",
              "    .colab-df-container {\n",
              "      display:flex;\n",
              "      flex-wrap:wrap;\n",
              "      gap: 12px;\n",
              "    }\n",
              "\n",
              "    .colab-df-convert {\n",
              "      background-color: #E8F0FE;\n",
              "      border: none;\n",
              "      border-radius: 50%;\n",
              "      cursor: pointer;\n",
              "      display: none;\n",
              "      fill: #1967D2;\n",
              "      height: 32px;\n",
              "      padding: 0 0 0 0;\n",
              "      width: 32px;\n",
              "    }\n",
              "\n",
              "    .colab-df-convert:hover {\n",
              "      background-color: #E2EBFA;\n",
              "      box-shadow: 0px 1px 2px rgba(60, 64, 67, 0.3), 0px 1px 3px 1px rgba(60, 64, 67, 0.15);\n",
              "      fill: #174EA6;\n",
              "    }\n",
              "\n",
              "    [theme=dark] .colab-df-convert {\n",
              "      background-color: #3B4455;\n",
              "      fill: #D2E3FC;\n",
              "    }\n",
              "\n",
              "    [theme=dark] .colab-df-convert:hover {\n",
              "      background-color: #434B5C;\n",
              "      box-shadow: 0px 1px 3px 1px rgba(0, 0, 0, 0.15);\n",
              "      filter: drop-shadow(0px 1px 2px rgba(0, 0, 0, 0.3));\n",
              "      fill: #FFFFFF;\n",
              "    }\n",
              "  </style>\n",
              "\n",
              "      <script>\n",
              "        const buttonEl =\n",
              "          document.querySelector('#df-f91a3c01-3a7e-4e25-a1c8-46d1a608b661 button.colab-df-convert');\n",
              "        buttonEl.style.display =\n",
              "          google.colab.kernel.accessAllowed ? 'block' : 'none';\n",
              "\n",
              "        async function convertToInteractive(key) {\n",
              "          const element = document.querySelector('#df-f91a3c01-3a7e-4e25-a1c8-46d1a608b661');\n",
              "          const dataTable =\n",
              "            await google.colab.kernel.invokeFunction('convertToInteractive',\n",
              "                                                     [key], {});\n",
              "          if (!dataTable) return;\n",
              "\n",
              "          const docLinkHtml = 'Like what you see? Visit the ' +\n",
              "            '<a target=\"_blank\" href=https://colab.research.google.com/notebooks/data_table.ipynb>data table notebook</a>'\n",
              "            + ' to learn more about interactive tables.';\n",
              "          element.innerHTML = '';\n",
              "          dataTable['output_type'] = 'display_data';\n",
              "          await google.colab.output.renderOutput(dataTable, element);\n",
              "          const docLink = document.createElement('div');\n",
              "          docLink.innerHTML = docLinkHtml;\n",
              "          element.appendChild(docLink);\n",
              "        }\n",
              "      </script>\n",
              "    </div>\n",
              "  </div>\n",
              "  "
            ]
          },
          "metadata": {},
          "execution_count": 11
        }
      ]
    },
    {
      "cell_type": "code",
      "source": [
        "airbnb_data.info()\n",
        "\n"
      ],
      "metadata": {
        "colab": {
          "base_uri": "https://localhost:8080/"
        },
        "id": "cZGjhgIGeBNG",
        "outputId": "2ca920a2-f9e8-4b85-d4d0-d43813ca13df"
      },
      "execution_count": null,
      "outputs": [
        {
          "output_type": "stream",
          "name": "stdout",
          "text": [
            "<class 'pandas.core.frame.DataFrame'>\n",
            "RangeIndex: 48895 entries, 0 to 48894\n",
            "Data columns (total 16 columns):\n",
            " #   Column                          Non-Null Count  Dtype  \n",
            "---  ------                          --------------  -----  \n",
            " 0   id                              48895 non-null  int64  \n",
            " 1   name                            48879 non-null  object \n",
            " 2   host_id                         48895 non-null  int64  \n",
            " 3   host_name                       48874 non-null  object \n",
            " 4   neighbourhood_group             48895 non-null  object \n",
            " 5   neighbourhood                   48895 non-null  object \n",
            " 6   latitude                        48895 non-null  float64\n",
            " 7   longitude                       48895 non-null  float64\n",
            " 8   room_type                       48895 non-null  object \n",
            " 9   price                           48895 non-null  int64  \n",
            " 10  minimum_nights                  48895 non-null  int64  \n",
            " 11  number_of_reviews               48895 non-null  int64  \n",
            " 12  last_review                     38843 non-null  object \n",
            " 13  reviews_per_month               38843 non-null  float64\n",
            " 14  calculated_host_listings_count  48895 non-null  int64  \n",
            " 15  availability_365                48895 non-null  int64  \n",
            "dtypes: float64(3), int64(7), object(6)\n",
            "memory usage: 6.0+ MB\n"
          ]
        }
      ]
    },
    {
      "cell_type": "code",
      "source": [
        "airbnb_data.describe(include='all').T\n"
      ],
      "metadata": {
        "colab": {
          "base_uri": "https://localhost:8080/",
          "height": 551
        },
        "id": "6Gq5ZyL8fn5B",
        "outputId": "2dc5dd13-46da-42cd-d85b-f572a99311e7"
      },
      "execution_count": null,
      "outputs": [
        {
          "output_type": "execute_result",
          "data": {
            "text/plain": [
              "                                  count unique              top   freq  \\\n",
              "id                              48895.0    NaN              NaN    NaN   \n",
              "name                              48879  47905   Hillside Hotel     18   \n",
              "host_id                         48895.0    NaN              NaN    NaN   \n",
              "host_name                         48874  11452          Michael    417   \n",
              "neighbourhood_group               48895      5        Manhattan  21661   \n",
              "neighbourhood                     48895    221     Williamsburg   3920   \n",
              "latitude                        48895.0    NaN              NaN    NaN   \n",
              "longitude                       48895.0    NaN              NaN    NaN   \n",
              "room_type                         48895      3  Entire home/apt  25409   \n",
              "price                           48895.0    NaN              NaN    NaN   \n",
              "minimum_nights                  48895.0    NaN              NaN    NaN   \n",
              "number_of_reviews               48895.0    NaN              NaN    NaN   \n",
              "last_review                       38843   1764       2019-06-23   1413   \n",
              "reviews_per_month               38843.0    NaN              NaN    NaN   \n",
              "calculated_host_listings_count  48895.0    NaN              NaN    NaN   \n",
              "availability_365                48895.0    NaN              NaN    NaN   \n",
              "\n",
              "                                          mean              std       min  \\\n",
              "id                              19017143.23618   10983108.38561    2539.0   \n",
              "name                                       NaN              NaN       NaN   \n",
              "host_id                         67620010.64661  78610967.032667    2438.0   \n",
              "host_name                                  NaN              NaN       NaN   \n",
              "neighbourhood_group                        NaN              NaN       NaN   \n",
              "neighbourhood                              NaN              NaN       NaN   \n",
              "latitude                             40.728949          0.05453  40.49979   \n",
              "longitude                            -73.95217         0.046157 -74.24442   \n",
              "room_type                                  NaN              NaN       NaN   \n",
              "price                               152.720687        240.15417       0.0   \n",
              "minimum_nights                        7.029962         20.51055       1.0   \n",
              "number_of_reviews                    23.274466        44.550582       0.0   \n",
              "last_review                                NaN              NaN       NaN   \n",
              "reviews_per_month                     1.373221         1.680442      0.01   \n",
              "calculated_host_listings_count        7.143982        32.952519       1.0   \n",
              "availability_365                    112.781327       131.622289       0.0   \n",
              "\n",
              "                                      25%         50%          75%  \\\n",
              "id                              9471945.0  19677284.0   29152178.5   \n",
              "name                                  NaN         NaN          NaN   \n",
              "host_id                         7822033.0  30793816.0  107434423.0   \n",
              "host_name                             NaN         NaN          NaN   \n",
              "neighbourhood_group                   NaN         NaN          NaN   \n",
              "neighbourhood                         NaN         NaN          NaN   \n",
              "latitude                          40.6901    40.72307    40.763115   \n",
              "longitude                       -73.98307   -73.95568   -73.936275   \n",
              "room_type                             NaN         NaN          NaN   \n",
              "price                                69.0       106.0        175.0   \n",
              "minimum_nights                        1.0         3.0          5.0   \n",
              "number_of_reviews                     1.0         5.0         24.0   \n",
              "last_review                           NaN         NaN          NaN   \n",
              "reviews_per_month                    0.19        0.72         2.02   \n",
              "calculated_host_listings_count        1.0         1.0          2.0   \n",
              "availability_365                      0.0        45.0        227.0   \n",
              "\n",
              "                                        max  \n",
              "id                               36487245.0  \n",
              "name                                    NaN  \n",
              "host_id                         274321313.0  \n",
              "host_name                               NaN  \n",
              "neighbourhood_group                     NaN  \n",
              "neighbourhood                           NaN  \n",
              "latitude                           40.91306  \n",
              "longitude                         -73.71299  \n",
              "room_type                               NaN  \n",
              "price                               10000.0  \n",
              "minimum_nights                       1250.0  \n",
              "number_of_reviews                     629.0  \n",
              "last_review                             NaN  \n",
              "reviews_per_month                      58.5  \n",
              "calculated_host_listings_count        327.0  \n",
              "availability_365                      365.0  "
            ],
            "text/html": [
              "\n",
              "  <div id=\"df-479f796b-65b4-4085-b19b-99d8e90e2471\">\n",
              "    <div class=\"colab-df-container\">\n",
              "      <div>\n",
              "<style scoped>\n",
              "    .dataframe tbody tr th:only-of-type {\n",
              "        vertical-align: middle;\n",
              "    }\n",
              "\n",
              "    .dataframe tbody tr th {\n",
              "        vertical-align: top;\n",
              "    }\n",
              "\n",
              "    .dataframe thead th {\n",
              "        text-align: right;\n",
              "    }\n",
              "</style>\n",
              "<table border=\"1\" class=\"dataframe\">\n",
              "  <thead>\n",
              "    <tr style=\"text-align: right;\">\n",
              "      <th></th>\n",
              "      <th>count</th>\n",
              "      <th>unique</th>\n",
              "      <th>top</th>\n",
              "      <th>freq</th>\n",
              "      <th>mean</th>\n",
              "      <th>std</th>\n",
              "      <th>min</th>\n",
              "      <th>25%</th>\n",
              "      <th>50%</th>\n",
              "      <th>75%</th>\n",
              "      <th>max</th>\n",
              "    </tr>\n",
              "  </thead>\n",
              "  <tbody>\n",
              "    <tr>\n",
              "      <th>id</th>\n",
              "      <td>48895.0</td>\n",
              "      <td>NaN</td>\n",
              "      <td>NaN</td>\n",
              "      <td>NaN</td>\n",
              "      <td>19017143.23618</td>\n",
              "      <td>10983108.38561</td>\n",
              "      <td>2539.0</td>\n",
              "      <td>9471945.0</td>\n",
              "      <td>19677284.0</td>\n",
              "      <td>29152178.5</td>\n",
              "      <td>36487245.0</td>\n",
              "    </tr>\n",
              "    <tr>\n",
              "      <th>name</th>\n",
              "      <td>48879</td>\n",
              "      <td>47905</td>\n",
              "      <td>Hillside Hotel</td>\n",
              "      <td>18</td>\n",
              "      <td>NaN</td>\n",
              "      <td>NaN</td>\n",
              "      <td>NaN</td>\n",
              "      <td>NaN</td>\n",
              "      <td>NaN</td>\n",
              "      <td>NaN</td>\n",
              "      <td>NaN</td>\n",
              "    </tr>\n",
              "    <tr>\n",
              "      <th>host_id</th>\n",
              "      <td>48895.0</td>\n",
              "      <td>NaN</td>\n",
              "      <td>NaN</td>\n",
              "      <td>NaN</td>\n",
              "      <td>67620010.64661</td>\n",
              "      <td>78610967.032667</td>\n",
              "      <td>2438.0</td>\n",
              "      <td>7822033.0</td>\n",
              "      <td>30793816.0</td>\n",
              "      <td>107434423.0</td>\n",
              "      <td>274321313.0</td>\n",
              "    </tr>\n",
              "    <tr>\n",
              "      <th>host_name</th>\n",
              "      <td>48874</td>\n",
              "      <td>11452</td>\n",
              "      <td>Michael</td>\n",
              "      <td>417</td>\n",
              "      <td>NaN</td>\n",
              "      <td>NaN</td>\n",
              "      <td>NaN</td>\n",
              "      <td>NaN</td>\n",
              "      <td>NaN</td>\n",
              "      <td>NaN</td>\n",
              "      <td>NaN</td>\n",
              "    </tr>\n",
              "    <tr>\n",
              "      <th>neighbourhood_group</th>\n",
              "      <td>48895</td>\n",
              "      <td>5</td>\n",
              "      <td>Manhattan</td>\n",
              "      <td>21661</td>\n",
              "      <td>NaN</td>\n",
              "      <td>NaN</td>\n",
              "      <td>NaN</td>\n",
              "      <td>NaN</td>\n",
              "      <td>NaN</td>\n",
              "      <td>NaN</td>\n",
              "      <td>NaN</td>\n",
              "    </tr>\n",
              "    <tr>\n",
              "      <th>neighbourhood</th>\n",
              "      <td>48895</td>\n",
              "      <td>221</td>\n",
              "      <td>Williamsburg</td>\n",
              "      <td>3920</td>\n",
              "      <td>NaN</td>\n",
              "      <td>NaN</td>\n",
              "      <td>NaN</td>\n",
              "      <td>NaN</td>\n",
              "      <td>NaN</td>\n",
              "      <td>NaN</td>\n",
              "      <td>NaN</td>\n",
              "    </tr>\n",
              "    <tr>\n",
              "      <th>latitude</th>\n",
              "      <td>48895.0</td>\n",
              "      <td>NaN</td>\n",
              "      <td>NaN</td>\n",
              "      <td>NaN</td>\n",
              "      <td>40.728949</td>\n",
              "      <td>0.05453</td>\n",
              "      <td>40.49979</td>\n",
              "      <td>40.6901</td>\n",
              "      <td>40.72307</td>\n",
              "      <td>40.763115</td>\n",
              "      <td>40.91306</td>\n",
              "    </tr>\n",
              "    <tr>\n",
              "      <th>longitude</th>\n",
              "      <td>48895.0</td>\n",
              "      <td>NaN</td>\n",
              "      <td>NaN</td>\n",
              "      <td>NaN</td>\n",
              "      <td>-73.95217</td>\n",
              "      <td>0.046157</td>\n",
              "      <td>-74.24442</td>\n",
              "      <td>-73.98307</td>\n",
              "      <td>-73.95568</td>\n",
              "      <td>-73.936275</td>\n",
              "      <td>-73.71299</td>\n",
              "    </tr>\n",
              "    <tr>\n",
              "      <th>room_type</th>\n",
              "      <td>48895</td>\n",
              "      <td>3</td>\n",
              "      <td>Entire home/apt</td>\n",
              "      <td>25409</td>\n",
              "      <td>NaN</td>\n",
              "      <td>NaN</td>\n",
              "      <td>NaN</td>\n",
              "      <td>NaN</td>\n",
              "      <td>NaN</td>\n",
              "      <td>NaN</td>\n",
              "      <td>NaN</td>\n",
              "    </tr>\n",
              "    <tr>\n",
              "      <th>price</th>\n",
              "      <td>48895.0</td>\n",
              "      <td>NaN</td>\n",
              "      <td>NaN</td>\n",
              "      <td>NaN</td>\n",
              "      <td>152.720687</td>\n",
              "      <td>240.15417</td>\n",
              "      <td>0.0</td>\n",
              "      <td>69.0</td>\n",
              "      <td>106.0</td>\n",
              "      <td>175.0</td>\n",
              "      <td>10000.0</td>\n",
              "    </tr>\n",
              "    <tr>\n",
              "      <th>minimum_nights</th>\n",
              "      <td>48895.0</td>\n",
              "      <td>NaN</td>\n",
              "      <td>NaN</td>\n",
              "      <td>NaN</td>\n",
              "      <td>7.029962</td>\n",
              "      <td>20.51055</td>\n",
              "      <td>1.0</td>\n",
              "      <td>1.0</td>\n",
              "      <td>3.0</td>\n",
              "      <td>5.0</td>\n",
              "      <td>1250.0</td>\n",
              "    </tr>\n",
              "    <tr>\n",
              "      <th>number_of_reviews</th>\n",
              "      <td>48895.0</td>\n",
              "      <td>NaN</td>\n",
              "      <td>NaN</td>\n",
              "      <td>NaN</td>\n",
              "      <td>23.274466</td>\n",
              "      <td>44.550582</td>\n",
              "      <td>0.0</td>\n",
              "      <td>1.0</td>\n",
              "      <td>5.0</td>\n",
              "      <td>24.0</td>\n",
              "      <td>629.0</td>\n",
              "    </tr>\n",
              "    <tr>\n",
              "      <th>last_review</th>\n",
              "      <td>38843</td>\n",
              "      <td>1764</td>\n",
              "      <td>2019-06-23</td>\n",
              "      <td>1413</td>\n",
              "      <td>NaN</td>\n",
              "      <td>NaN</td>\n",
              "      <td>NaN</td>\n",
              "      <td>NaN</td>\n",
              "      <td>NaN</td>\n",
              "      <td>NaN</td>\n",
              "      <td>NaN</td>\n",
              "    </tr>\n",
              "    <tr>\n",
              "      <th>reviews_per_month</th>\n",
              "      <td>38843.0</td>\n",
              "      <td>NaN</td>\n",
              "      <td>NaN</td>\n",
              "      <td>NaN</td>\n",
              "      <td>1.373221</td>\n",
              "      <td>1.680442</td>\n",
              "      <td>0.01</td>\n",
              "      <td>0.19</td>\n",
              "      <td>0.72</td>\n",
              "      <td>2.02</td>\n",
              "      <td>58.5</td>\n",
              "    </tr>\n",
              "    <tr>\n",
              "      <th>calculated_host_listings_count</th>\n",
              "      <td>48895.0</td>\n",
              "      <td>NaN</td>\n",
              "      <td>NaN</td>\n",
              "      <td>NaN</td>\n",
              "      <td>7.143982</td>\n",
              "      <td>32.952519</td>\n",
              "      <td>1.0</td>\n",
              "      <td>1.0</td>\n",
              "      <td>1.0</td>\n",
              "      <td>2.0</td>\n",
              "      <td>327.0</td>\n",
              "    </tr>\n",
              "    <tr>\n",
              "      <th>availability_365</th>\n",
              "      <td>48895.0</td>\n",
              "      <td>NaN</td>\n",
              "      <td>NaN</td>\n",
              "      <td>NaN</td>\n",
              "      <td>112.781327</td>\n",
              "      <td>131.622289</td>\n",
              "      <td>0.0</td>\n",
              "      <td>0.0</td>\n",
              "      <td>45.0</td>\n",
              "      <td>227.0</td>\n",
              "      <td>365.0</td>\n",
              "    </tr>\n",
              "  </tbody>\n",
              "</table>\n",
              "</div>\n",
              "      <button class=\"colab-df-convert\" onclick=\"convertToInteractive('df-479f796b-65b4-4085-b19b-99d8e90e2471')\"\n",
              "              title=\"Convert this dataframe to an interactive table.\"\n",
              "              style=\"display:none;\">\n",
              "        \n",
              "  <svg xmlns=\"http://www.w3.org/2000/svg\" height=\"24px\"viewBox=\"0 0 24 24\"\n",
              "       width=\"24px\">\n",
              "    <path d=\"M0 0h24v24H0V0z\" fill=\"none\"/>\n",
              "    <path d=\"M18.56 5.44l.94 2.06.94-2.06 2.06-.94-2.06-.94-.94-2.06-.94 2.06-2.06.94zm-11 1L8.5 8.5l.94-2.06 2.06-.94-2.06-.94L8.5 2.5l-.94 2.06-2.06.94zm10 10l.94 2.06.94-2.06 2.06-.94-2.06-.94-.94-2.06-.94 2.06-2.06.94z\"/><path d=\"M17.41 7.96l-1.37-1.37c-.4-.4-.92-.59-1.43-.59-.52 0-1.04.2-1.43.59L10.3 9.45l-7.72 7.72c-.78.78-.78 2.05 0 2.83L4 21.41c.39.39.9.59 1.41.59.51 0 1.02-.2 1.41-.59l7.78-7.78 2.81-2.81c.8-.78.8-2.07 0-2.86zM5.41 20L4 18.59l7.72-7.72 1.47 1.35L5.41 20z\"/>\n",
              "  </svg>\n",
              "      </button>\n",
              "      \n",
              "  <style>\n",
              "    .colab-df-container {\n",
              "      display:flex;\n",
              "      flex-wrap:wrap;\n",
              "      gap: 12px;\n",
              "    }\n",
              "\n",
              "    .colab-df-convert {\n",
              "      background-color: #E8F0FE;\n",
              "      border: none;\n",
              "      border-radius: 50%;\n",
              "      cursor: pointer;\n",
              "      display: none;\n",
              "      fill: #1967D2;\n",
              "      height: 32px;\n",
              "      padding: 0 0 0 0;\n",
              "      width: 32px;\n",
              "    }\n",
              "\n",
              "    .colab-df-convert:hover {\n",
              "      background-color: #E2EBFA;\n",
              "      box-shadow: 0px 1px 2px rgba(60, 64, 67, 0.3), 0px 1px 3px 1px rgba(60, 64, 67, 0.15);\n",
              "      fill: #174EA6;\n",
              "    }\n",
              "\n",
              "    [theme=dark] .colab-df-convert {\n",
              "      background-color: #3B4455;\n",
              "      fill: #D2E3FC;\n",
              "    }\n",
              "\n",
              "    [theme=dark] .colab-df-convert:hover {\n",
              "      background-color: #434B5C;\n",
              "      box-shadow: 0px 1px 3px 1px rgba(0, 0, 0, 0.15);\n",
              "      filter: drop-shadow(0px 1px 2px rgba(0, 0, 0, 0.3));\n",
              "      fill: #FFFFFF;\n",
              "    }\n",
              "  </style>\n",
              "\n",
              "      <script>\n",
              "        const buttonEl =\n",
              "          document.querySelector('#df-479f796b-65b4-4085-b19b-99d8e90e2471 button.colab-df-convert');\n",
              "        buttonEl.style.display =\n",
              "          google.colab.kernel.accessAllowed ? 'block' : 'none';\n",
              "\n",
              "        async function convertToInteractive(key) {\n",
              "          const element = document.querySelector('#df-479f796b-65b4-4085-b19b-99d8e90e2471');\n",
              "          const dataTable =\n",
              "            await google.colab.kernel.invokeFunction('convertToInteractive',\n",
              "                                                     [key], {});\n",
              "          if (!dataTable) return;\n",
              "\n",
              "          const docLinkHtml = 'Like what you see? Visit the ' +\n",
              "            '<a target=\"_blank\" href=https://colab.research.google.com/notebooks/data_table.ipynb>data table notebook</a>'\n",
              "            + ' to learn more about interactive tables.';\n",
              "          element.innerHTML = '';\n",
              "          dataTable['output_type'] = 'display_data';\n",
              "          await google.colab.output.renderOutput(dataTable, element);\n",
              "          const docLink = document.createElement('div');\n",
              "          docLink.innerHTML = docLinkHtml;\n",
              "          element.appendChild(docLink);\n",
              "        }\n",
              "      </script>\n",
              "    </div>\n",
              "  </div>\n",
              "  "
            ]
          },
          "metadata": {},
          "execution_count": 13
        }
      ]
    },
    {
      "cell_type": "code",
      "source": [
        "airbnb_data['room_type'].unique()\n"
      ],
      "metadata": {
        "colab": {
          "base_uri": "https://localhost:8080/"
        },
        "id": "-0qnuaYc6Agh",
        "outputId": "bf8e7155-11de-4bf0-b0b0-b2eb39a262e0"
      },
      "execution_count": null,
      "outputs": [
        {
          "output_type": "execute_result",
          "data": {
            "text/plain": [
              "array(['Private room', 'Entire home/apt', 'Shared room'], dtype=object)"
            ]
          },
          "metadata": {},
          "execution_count": 15
        }
      ]
    },
    {
      "cell_type": "code",
      "source": [
        "airbnb_data['neighbourhood_group'].unique()\n"
      ],
      "metadata": {
        "colab": {
          "base_uri": "https://localhost:8080/"
        },
        "id": "ET8whzUf7tNi",
        "outputId": "514e48d3-471a-4f5f-a584-6bf18487c175"
      },
      "execution_count": null,
      "outputs": [
        {
          "output_type": "execute_result",
          "data": {
            "text/plain": [
              "array(['Brooklyn', 'Manhattan', 'Queens', 'Staten Island', 'Bronx'],\n",
              "      dtype=object)"
            ]
          },
          "metadata": {},
          "execution_count": 16
        }
      ]
    },
    {
      "cell_type": "code",
      "source": [
        "print(\"total no of unique neighbourhood :\",len(airbnb_data.neighbourhood.unique()))\n",
        "airbnb_data['neighbourhood'].unique()\n",
        "\n"
      ],
      "metadata": {
        "colab": {
          "base_uri": "https://localhost:8080/"
        },
        "id": "3YXT14lg8pmi",
        "outputId": "6ea131cd-6fd0-48b0-8602-da46d107a482"
      },
      "execution_count": null,
      "outputs": [
        {
          "output_type": "stream",
          "name": "stdout",
          "text": [
            "total no of unique neighbourhood : 221\n"
          ]
        },
        {
          "output_type": "execute_result",
          "data": {
            "text/plain": [
              "array(['Kensington', 'Midtown', 'Harlem', 'Clinton Hill', 'East Harlem',\n",
              "       'Murray Hill', 'Bedford-Stuyvesant', \"Hell's Kitchen\",\n",
              "       'Upper West Side', 'Chinatown', 'South Slope', 'West Village',\n",
              "       'Williamsburg', 'Fort Greene', 'Chelsea', 'Crown Heights',\n",
              "       'Park Slope', 'Windsor Terrace', 'Inwood', 'East Village',\n",
              "       'Greenpoint', 'Bushwick', 'Flatbush', 'Lower East Side',\n",
              "       'Prospect-Lefferts Gardens', 'Long Island City', 'Kips Bay',\n",
              "       'SoHo', 'Upper East Side', 'Prospect Heights',\n",
              "       'Washington Heights', 'Woodside', 'Brooklyn Heights',\n",
              "       'Carroll Gardens', 'Gowanus', 'Flatlands', 'Cobble Hill',\n",
              "       'Flushing', 'Boerum Hill', 'Sunnyside', 'DUMBO', 'St. George',\n",
              "       'Highbridge', 'Financial District', 'Ridgewood',\n",
              "       'Morningside Heights', 'Jamaica', 'Middle Village', 'NoHo',\n",
              "       'Ditmars Steinway', 'Flatiron District', 'Roosevelt Island',\n",
              "       'Greenwich Village', 'Little Italy', 'East Flatbush',\n",
              "       'Tompkinsville', 'Astoria', 'Clason Point', 'Eastchester',\n",
              "       'Kingsbridge', 'Two Bridges', 'Queens Village', 'Rockaway Beach',\n",
              "       'Forest Hills', 'Nolita', 'Woodlawn', 'University Heights',\n",
              "       'Gravesend', 'Gramercy', 'Allerton', 'East New York',\n",
              "       'Theater District', 'Concourse Village', 'Sheepshead Bay',\n",
              "       'Emerson Hill', 'Fort Hamilton', 'Bensonhurst', 'Tribeca',\n",
              "       'Shore Acres', 'Sunset Park', 'Concourse', 'Elmhurst',\n",
              "       'Brighton Beach', 'Jackson Heights', 'Cypress Hills', 'St. Albans',\n",
              "       'Arrochar', 'Rego Park', 'Wakefield', 'Clifton', 'Bay Ridge',\n",
              "       'Graniteville', 'Spuyten Duyvil', 'Stapleton', 'Briarwood',\n",
              "       'Ozone Park', 'Columbia St', 'Vinegar Hill', 'Mott Haven',\n",
              "       'Longwood', 'Canarsie', 'Battery Park City', 'Civic Center',\n",
              "       'East Elmhurst', 'New Springville', 'Morris Heights', 'Arverne',\n",
              "       'Cambria Heights', 'Tottenville', 'Mariners Harbor', 'Concord',\n",
              "       'Borough Park', 'Bayside', 'Downtown Brooklyn', 'Port Morris',\n",
              "       'Fieldston', 'Kew Gardens', 'Midwood', 'College Point',\n",
              "       'Mount Eden', 'City Island', 'Glendale', 'Port Richmond',\n",
              "       'Red Hook', 'Richmond Hill', 'Bellerose', 'Maspeth',\n",
              "       'Williamsbridge', 'Soundview', 'Woodhaven', 'Woodrow',\n",
              "       'Co-op City', 'Stuyvesant Town', 'Parkchester', 'North Riverdale',\n",
              "       'Dyker Heights', 'Bronxdale', 'Sea Gate', 'Riverdale',\n",
              "       'Kew Gardens Hills', 'Bay Terrace', 'Norwood', 'Claremont Village',\n",
              "       'Whitestone', 'Fordham', 'Bayswater', 'Navy Yard', 'Brownsville',\n",
              "       'Eltingville', 'Fresh Meadows', 'Mount Hope', 'Lighthouse Hill',\n",
              "       'Springfield Gardens', 'Howard Beach', 'Belle Harbor',\n",
              "       'Jamaica Estates', 'Van Nest', 'Morris Park', 'West Brighton',\n",
              "       'Far Rockaway', 'South Ozone Park', 'Tremont', 'Corona',\n",
              "       'Great Kills', 'Manhattan Beach', 'Marble Hill', 'Dongan Hills',\n",
              "       'Castleton Corners', 'East Morrisania', 'Hunts Point', 'Neponsit',\n",
              "       'Pelham Bay', 'Randall Manor', 'Throgs Neck', 'Todt Hill',\n",
              "       'West Farms', 'Silver Lake', 'Morrisania', 'Laurelton',\n",
              "       'Grymes Hill', 'Holliswood', 'Pelham Gardens', 'Belmont',\n",
              "       'Rosedale', 'Edgemere', 'New Brighton', 'Midland Beach',\n",
              "       'Baychester', 'Melrose', 'Bergen Beach', 'Richmondtown',\n",
              "       'Howland Hook', 'Schuylerville', 'Coney Island', 'New Dorp Beach',\n",
              "       \"Prince's Bay\", 'South Beach', 'Bath Beach', 'Jamaica Hills',\n",
              "       'Oakwood', 'Castle Hill', 'Hollis', 'Douglaston', 'Huguenot',\n",
              "       'Olinville', 'Edenwald', 'Grant City', 'Westerleigh',\n",
              "       'Bay Terrace, Staten Island', 'Westchester Square', 'Little Neck',\n",
              "       'Fort Wadsworth', 'Rosebank', 'Unionport', 'Mill Basin',\n",
              "       'Arden Heights', \"Bull's Head\", 'New Dorp', 'Rossville',\n",
              "       'Breezy Point', 'Willowbrook'], dtype=object)"
            ]
          },
          "metadata": {},
          "execution_count": 17
        }
      ]
    },
    {
      "cell_type": "markdown",
      "source": [
        "Q1: **What can we learn about different hosts and areas?**\n"
      ],
      "metadata": {
        "id": "a2nehDzo72Op"
      }
    },
    {
      "cell_type": "code",
      "source": [
        "\n",
        "plt.figure(figsize=(30,6))\n",
        "plt.title(\"Neighbourhood Group Distribution\")\n",
        "neighbourhood_group_count=airbnb_data.neighbourhood_group.value_counts();\n",
        "neighbourhood_group_label=airbnb_data.neighbourhood_group.value_counts().index\n",
        "pie_chart = plt.pie(neighbourhood_group_count, labels=neighbourhood_group_label,autopct='%1.1f%%', startangle=0)"
      ],
      "metadata": {
        "colab": {
          "base_uri": "https://localhost:8080/",
          "height": 402
        },
        "id": "h8WJeBMx74wv",
        "outputId": "19629069-b36b-47d6-bf57-03ed4349b645"
      },
      "execution_count": null,
      "outputs": [
        {
          "output_type": "display_data",
          "data": {
            "text/plain": [
              "<Figure size 2160x432 with 1 Axes>"
            ],
            "image/png": "[encoded data removed]"
          },
          "metadata": {}
        }
      ]
    },
    {
      "cell_type": "markdown",
      "source": [],
      "metadata": {
        "id": "qNeHYfxz9_H0"
      }
    },
    {
      "cell_type": "markdown",
      "source": [
        "**Answer**:- From the above pie chart we can see that Manhattan and Brroklyn have the highest no of hotels.\n",
        "\n",
        "Also,We can see that Manhattan has the highest number of listings i.e 44.3% out of all followed by Brooklyn with 41.1%,Queens=11.6%, Bronx=2.2% and Staten Island= 0.8%. The very less listings is in Staten Island. "
      ],
      "metadata": {
        "id": "8h1K0vBX9_J0"
      }
    },
    {
      "cell_type": "markdown",
      "source": [
        "\n",
        "\n"
      ],
      "metadata": {
        "id": "Nv8LK9scBnWZ"
      }
    },
    {
      "cell_type": "code",
      "source": [
        "plt.figure(figsize=(13,6))\n",
        "plt.title(\"Room Type on Neighbourhood Group\")\n",
        "sns.countplot(x=airbnb_data.neighbourhood_group,hue=airbnb_data.room_type, palette=\"muted\")\n",
        "plt.show()\n"
      ],
      "metadata": {
        "colab": {
          "base_uri": "https://localhost:8080/",
          "height": 442
        },
        "id": "qaKWBfokBezS",
        "outputId": "61b1c18f-f330-4c19-b4f6-dad88622c211"
      },
      "execution_count": null,
      "outputs": [
        {
          "output_type": "display_data",
          "data": {
            "text/plain": [
              "<Figure size 936x432 with 1 Axes>"
            ],
            "image/png": "[encoded data removed]"
          },
          "metadata": {}
        }
      ]
    },
    {
      "cell_type": "markdown",
      "source": [
        "\n",
        "We can observed from above graph that entire home has the highest preferences followed by to private room."
      ],
      "metadata": {
        "id": "klUnPW6tCt10"
      }
    },
    {
      "cell_type": "code",
      "source": [],
      "metadata": {
        "id": "kDZxj3kmEYsJ"
      },
      "execution_count": null,
      "outputs": []
    },
    {
      "cell_type": "markdown",
      "source": [
        "**Q.2 What can we learn from predictions? (ex: locations, prices, reviews, etc)**\n"
      ],
      "metadata": {
        "id": "AWGy8LsfEZ9y"
      }
    },
    {
      "cell_type": "code",
      "source": [
        "plt.figure(figsize=(8,6))\n",
        "plt.title(\"Neighbourhood Group vs price\")\n",
        "sns.barplot(x=airbnb_data.neighbourhood_group, y=airbnb_data.price,palette=\"muted\") \n",
        "plt.show()\n"
      ],
      "metadata": {
        "colab": {
          "base_uri": "https://localhost:8080/",
          "height": 442
        },
        "id": "lzrepGb_Cl33",
        "outputId": "f56224c4-0a62-4eb6-b136-926f263f0a53"
      },
      "execution_count": null,
      "outputs": [
        {
          "output_type": "display_data",
          "data": {
            "text/plain": [
              "<Figure size 576x432 with 1 Axes>"
            ],
            "image/png": "[encoded data removed]"
          },
          "metadata": {}
        }
      ]
    },
    {
      "cell_type": "markdown",
      "source": [],
      "metadata": {
        "id": "Dw93V_BSG0c7"
      }
    },
    {
      "cell_type": "code",
      "source": [
        "plt.figure(figsize=(8,6))\n",
        "plt.title(\"Neighbourhood Group vs Number of Reviews\")\n",
        "sns.barplot(x=airbnb_data.neighbourhood_group, y=airbnb_data.number_of_reviews,palette=\"muted\") \n",
        "plt.show()\n"
      ],
      "metadata": {
        "colab": {
          "base_uri": "https://localhost:8080/",
          "height": 442
        },
        "id": "n_xWsLjcBl-p",
        "outputId": "2c66b44e-1a1f-4940-a3ba-cf7ceba5dc36"
      },
      "execution_count": null,
      "outputs": [
        {
          "output_type": "display_data",
          "data": {
            "text/plain": [
              "<Figure size 576x432 with 1 Axes>"
            ],
            "image/png": "[encoded data removed]"
          },
          "metadata": {}
        }
      ]
    },
    {
      "cell_type": "code",
      "source": [
        "top_reviewed_listings=airbnb_data.nlargest(10,'number_of_reviews')\n",
        "top_reviewed_listings"
      ],
      "metadata": {
        "colab": {
          "base_uri": "https://localhost:8080/",
          "height": 635
        },
        "id": "LMi19uiCHKRr",
        "outputId": "cfeac2dc-22c2-47e8-bc2d-f3a00564bc61"
      },
      "execution_count": null,
      "outputs": [
        {
          "output_type": "execute_result",
          "data": {
            "text/plain": [
              "             id                                               name   host_id  \\\n",
              "11759   9145202                            Room near JFK Queen Bed  47621202   \n",
              "2031     903972                         Great Bedroom in Manhattan   4734398   \n",
              "2030     903947                     Beautiful Bedroom in Manhattan   4734398   \n",
              "2015     891117                       Private Bedroom in Manhattan   4734398   \n",
              "13495  10101135                            Room Near JFK Twin Beds  47621202   \n",
              "10623   8168619                  Steps away from Laguardia airport  37312959   \n",
              "1879     834190           Manhattan Lux Loft.Like.Love.Lots.Look !   2369681   \n",
              "20403  16276632  Cozy Room Family Home LGA Airport NO CLEANING FEE  26432133   \n",
              "4870    3474320                 Private brownstone studio Brooklyn  12949460   \n",
              "471      166172                    LG Private Room/Family Friendly    792159   \n",
              "\n",
              "      host_name neighbourhood_group    neighbourhood  latitude  longitude  \\\n",
              "11759      Dona              Queens          Jamaica  40.66730  -73.76831   \n",
              "2031         Jj           Manhattan           Harlem  40.82085  -73.94025   \n",
              "2030         Jj           Manhattan           Harlem  40.82124  -73.93838   \n",
              "2015         Jj           Manhattan           Harlem  40.82264  -73.94041   \n",
              "13495      Dona              Queens          Jamaica  40.66939  -73.76975   \n",
              "10623      Maya              Queens    East Elmhurst  40.77006  -73.87683   \n",
              "1879      Carol           Manhattan  Lower East Side  40.71921  -73.99116   \n",
              "20403  Danielle              Queens    East Elmhurst  40.76335  -73.87007   \n",
              "4870        Asa            Brooklyn       Park Slope  40.67926  -73.97711   \n",
              "471       Wanda            Brooklyn         Bushwick  40.70283  -73.92131   \n",
              "\n",
              "             room_type  price  minimum_nights  number_of_reviews last_review  \\\n",
              "11759     Private room     47               1                629  2019-07-05   \n",
              "2031      Private room     49               1                607  2019-06-21   \n",
              "2030      Private room     49               1                597  2019-06-23   \n",
              "2015      Private room     49               1                594  2019-06-15   \n",
              "13495     Private room     47               1                576  2019-06-27   \n",
              "10623     Private room     46               1                543  2019-07-01   \n",
              "1879      Private room     99               2                540  2019-07-06   \n",
              "20403     Private room     48               1                510  2019-07-06   \n",
              "4870   Entire home/apt    160               1                488  2019-07-01   \n",
              "471       Private room     60               3                480  2019-07-07   \n",
              "\n",
              "       reviews_per_month  calculated_host_listings_count  availability_365  \n",
              "11759              14.58                               2               333  \n",
              "2031                7.75                               3               293  \n",
              "2030                7.72                               3               342  \n",
              "2015                7.57                               3               339  \n",
              "13495              13.40                               2               173  \n",
              "10623              11.59                               5               163  \n",
              "1879                6.95                               1               179  \n",
              "20403              16.22                               5               341  \n",
              "4870                8.14                               1               269  \n",
              "471                 6.70                               1                 0  "
            ],
            "text/html": [
              "\n",
              "  <div id=\"df-6dab0ebf-b55e-42bc-a810-8cb5d1a8846b\">\n",
              "    <div class=\"colab-df-container\">\n",
              "      <div>\n",
              "<style scoped>\n",
              "    .dataframe tbody tr th:only-of-type {\n",
              "        vertical-align: middle;\n",
              "    }\n",
              "\n",
              "    .dataframe tbody tr th {\n",
              "        vertical-align: top;\n",
              "    }\n",
              "\n",
              "    .dataframe thead th {\n",
              "        text-align: right;\n",
              "    }\n",
              "</style>\n",
              "<table border=\"1\" class=\"dataframe\">\n",
              "  <thead>\n",
              "    <tr style=\"text-align: right;\">\n",
              "      <th></th>\n",
              "      <th>id</th>\n",
              "      <th>name</th>\n",
              "      <th>host_id</th>\n",
              "      <th>host_name</th>\n",
              "      <th>neighbourhood_group</th>\n",
              "      <th>neighbourhood</th>\n",
              "      <th>latitude</th>\n",
              "      <th>longitude</th>\n",
              "      <th>room_type</th>\n",
              "      <th>price</th>\n",
              "      <th>minimum_nights</th>\n",
              "      <th>number_of_reviews</th>\n",
              "      <th>last_review</th>\n",
              "      <th>reviews_per_month</th>\n",
              "      <th>calculated_host_listings_count</th>\n",
              "      <th>availability_365</th>\n",
              "    </tr>\n",
              "  </thead>\n",
              "  <tbody>\n",
              "    <tr>\n",
              "      <th>11759</th>\n",
              "      <td>9145202</td>\n",
              "      <td>Room near JFK Queen Bed</td>\n",
              "      <td>47621202</td>\n",
              "      <td>Dona</td>\n",
              "      <td>Queens</td>\n",
              "      <td>Jamaica</td>\n",
              "      <td>40.66730</td>\n",
              "      <td>-73.76831</td>\n",
              "      <td>Private room</td>\n",
              "      <td>47</td>\n",
              "      <td>1</td>\n",
              "      <td>629</td>\n",
              "      <td>2019-07-05</td>\n",
              "      <td>14.58</td>\n",
              "      <td>2</td>\n",
              "      <td>333</td>\n",
              "    </tr>\n",
              "    <tr>\n",
              "      <th>2031</th>\n",
              "      <td>903972</td>\n",
              "      <td>Great Bedroom in Manhattan</td>\n",
              "      <td>4734398</td>\n",
              "      <td>Jj</td>\n",
              "      <td>Manhattan</td>\n",
              "      <td>Harlem</td>\n",
              "      <td>40.82085</td>\n",
              "      <td>-73.94025</td>\n",
              "      <td>Private room</td>\n",
              "      <td>49</td>\n",
              "      <td>1</td>\n",
              "      <td>607</td>\n",
              "      <td>2019-06-21</td>\n",
              "      <td>7.75</td>\n",
              "      <td>3</td>\n",
              "      <td>293</td>\n",
              "    </tr>\n",
              "    <tr>\n",
              "      <th>2030</th>\n",
              "      <td>903947</td>\n",
              "      <td>Beautiful Bedroom in Manhattan</td>\n",
              "      <td>4734398</td>\n",
              "      <td>Jj</td>\n",
              "      <td>Manhattan</td>\n",
              "      <td>Harlem</td>\n",
              "      <td>40.82124</td>\n",
              "      <td>-73.93838</td>\n",
              "      <td>Private room</td>\n",
              "      <td>49</td>\n",
              "      <td>1</td>\n",
              "      <td>597</td>\n",
              "      <td>2019-06-23</td>\n",
              "      <td>7.72</td>\n",
              "      <td>3</td>\n",
              "      <td>342</td>\n",
              "    </tr>\n",
              "    <tr>\n",
              "      <th>2015</th>\n",
              "      <td>891117</td>\n",
              "      <td>Private Bedroom in Manhattan</td>\n",
              "      <td>4734398</td>\n",
              "      <td>Jj</td>\n",
              "      <td>Manhattan</td>\n",
              "      <td>Harlem</td>\n",
              "      <td>40.82264</td>\n",
              "      <td>-73.94041</td>\n",
              "      <td>Private room</td>\n",
              "      <td>49</td>\n",
              "      <td>1</td>\n",
              "      <td>594</td>\n",
              "      <td>2019-06-15</td>\n",
              "      <td>7.57</td>\n",
              "      <td>3</td>\n",
              "      <td>339</td>\n",
              "    </tr>\n",
              "    <tr>\n",
              "      <th>13495</th>\n",
              "      <td>10101135</td>\n",
              "      <td>Room Near JFK Twin Beds</td>\n",
              "      <td>47621202</td>\n",
              "      <td>Dona</td>\n",
              "      <td>Queens</td>\n",
              "      <td>Jamaica</td>\n",
              "      <td>40.66939</td>\n",
              "      <td>-73.76975</td>\n",
              "      <td>Private room</td>\n",
              "      <td>47</td>\n",
              "      <td>1</td>\n",
              "      <td>576</td>\n",
              "      <td>2019-06-27</td>\n",
              "      <td>13.40</td>\n",
              "      <td>2</td>\n",
              "      <td>173</td>\n",
              "    </tr>\n",
              "    <tr>\n",
              "      <th>10623</th>\n",
              "      <td>8168619</td>\n",
              "      <td>Steps away from Laguardia airport</td>\n",
              "      <td>37312959</td>\n",
              "      <td>Maya</td>\n",
              "      <td>Queens</td>\n",
              "      <td>East Elmhurst</td>\n",
              "      <td>40.77006</td>\n",
              "      <td>-73.87683</td>\n",
              "      <td>Private room</td>\n",
              "      <td>46</td>\n",
              "      <td>1</td>\n",
              "      <td>543</td>\n",
              "      <td>2019-07-01</td>\n",
              "      <td>11.59</td>\n",
              "      <td>5</td>\n",
              "      <td>163</td>\n",
              "    </tr>\n",
              "    <tr>\n",
              "      <th>1879</th>\n",
              "      <td>834190</td>\n",
              "      <td>Manhattan Lux Loft.Like.Love.Lots.Look !</td>\n",
              "      <td>2369681</td>\n",
              "      <td>Carol</td>\n",
              "      <td>Manhattan</td>\n",
              "      <td>Lower East Side</td>\n",
              "      <td>40.71921</td>\n",
              "      <td>-73.99116</td>\n",
              "      <td>Private room</td>\n",
              "      <td>99</td>\n",
              "      <td>2</td>\n",
              "      <td>540</td>\n",
              "      <td>2019-07-06</td>\n",
              "      <td>6.95</td>\n",
              "      <td>1</td>\n",
              "      <td>179</td>\n",
              "    </tr>\n",
              "    <tr>\n",
              "      <th>20403</th>\n",
              "      <td>16276632</td>\n",
              "      <td>Cozy Room Family Home LGA Airport NO CLEANING FEE</td>\n",
              "      <td>26432133</td>\n",
              "      <td>Danielle</td>\n",
              "      <td>Queens</td>\n",
              "      <td>East Elmhurst</td>\n",
              "      <td>40.76335</td>\n",
              "      <td>-73.87007</td>\n",
              "      <td>Private room</td>\n",
              "      <td>48</td>\n",
              "      <td>1</td>\n",
              "      <td>510</td>\n",
              "      <td>2019-07-06</td>\n",
              "      <td>16.22</td>\n",
              "      <td>5</td>\n",
              "      <td>341</td>\n",
              "    </tr>\n",
              "    <tr>\n",
              "      <th>4870</th>\n",
              "      <td>3474320</td>\n",
              "      <td>Private brownstone studio Brooklyn</td>\n",
              "      <td>12949460</td>\n",
              "      <td>Asa</td>\n",
              "      <td>Brooklyn</td>\n",
              "      <td>Park Slope</td>\n",
              "      <td>40.67926</td>\n",
              "      <td>-73.97711</td>\n",
              "      <td>Entire home/apt</td>\n",
              "      <td>160</td>\n",
              "      <td>1</td>\n",
              "      <td>488</td>\n",
              "      <td>2019-07-01</td>\n",
              "      <td>8.14</td>\n",
              "      <td>1</td>\n",
              "      <td>269</td>\n",
              "    </tr>\n",
              "    <tr>\n",
              "      <th>471</th>\n",
              "      <td>166172</td>\n",
              "      <td>LG Private Room/Family Friendly</td>\n",
              "      <td>792159</td>\n",
              "      <td>Wanda</td>\n",
              "      <td>Brooklyn</td>\n",
              "      <td>Bushwick</td>\n",
              "      <td>40.70283</td>\n",
              "      <td>-73.92131</td>\n",
              "      <td>Private room</td>\n",
              "      <td>60</td>\n",
              "      <td>3</td>\n",
              "      <td>480</td>\n",
              "      <td>2019-07-07</td>\n",
              "      <td>6.70</td>\n",
              "      <td>1</td>\n",
              "      <td>0</td>\n",
              "    </tr>\n",
              "  </tbody>\n",
              "</table>\n",
              "</div>\n",
              "      <button class=\"colab-df-convert\" onclick=\"convertToInteractive('df-6dab0ebf-b55e-42bc-a810-8cb5d1a8846b')\"\n",
              "              title=\"Convert this dataframe to an interactive table.\"\n",
              "              style=\"display:none;\">\n",
              "        \n",
              "  <svg xmlns=\"http://www.w3.org/2000/svg\" height=\"24px\"viewBox=\"0 0 24 24\"\n",
              "       width=\"24px\">\n",
              "    <path d=\"M0 0h24v24H0V0z\" fill=\"none\"/>\n",
              "    <path d=\"M18.56 5.44l.94 2.06.94-2.06 2.06-.94-2.06-.94-.94-2.06-.94 2.06-2.06.94zm-11 1L8.5 8.5l.94-2.06 2.06-.94-2.06-.94L8.5 2.5l-.94 2.06-2.06.94zm10 10l.94 2.06.94-2.06 2.06-.94-2.06-.94-.94-2.06-.94 2.06-2.06.94z\"/><path d=\"M17.41 7.96l-1.37-1.37c-.4-.4-.92-.59-1.43-.59-.52 0-1.04.2-1.43.59L10.3 9.45l-7.72 7.72c-.78.78-.78 2.05 0 2.83L4 21.41c.39.39.9.59 1.41.59.51 0 1.02-.2 1.41-.59l7.78-7.78 2.81-2.81c.8-.78.8-2.07 0-2.86zM5.41 20L4 18.59l7.72-7.72 1.47 1.35L5.41 20z\"/>\n",
              "  </svg>\n",
              "      </button>\n",
              "      \n",
              "  <style>\n",
              "    .colab-df-container {\n",
              "      display:flex;\n",
              "      flex-wrap:wrap;\n",
              "      gap: 12px;\n",
              "    }\n",
              "\n",
              "    .colab-df-convert {\n",
              "      background-color: #E8F0FE;\n",
              "      border: none;\n",
              "      border-radius: 50%;\n",
              "      cursor: pointer;\n",
              "      display: none;\n",
              "      fill: #1967D2;\n",
              "      height: 32px;\n",
              "      padding: 0 0 0 0;\n",
              "      width: 32px;\n",
              "    }\n",
              "\n",
              "    .colab-df-convert:hover {\n",
              "      background-color: #E2EBFA;\n",
              "      box-shadow: 0px 1px 2px rgba(60, 64, 67, 0.3), 0px 1px 3px 1px rgba(60, 64, 67, 0.15);\n",
              "      fill: #174EA6;\n",
              "    }\n",
              "\n",
              "    [theme=dark] .colab-df-convert {\n",
              "      background-color: #3B4455;\n",
              "      fill: #D2E3FC;\n",
              "    }\n",
              "\n",
              "    [theme=dark] .colab-df-convert:hover {\n",
              "      background-color: #434B5C;\n",
              "      box-shadow: 0px 1px 3px 1px rgba(0, 0, 0, 0.15);\n",
              "      filter: drop-shadow(0px 1px 2px rgba(0, 0, 0, 0.3));\n",
              "      fill: #FFFFFF;\n",
              "    }\n",
              "  </style>\n",
              "\n",
              "      <script>\n",
              "        const buttonEl =\n",
              "          document.querySelector('#df-6dab0ebf-b55e-42bc-a810-8cb5d1a8846b button.colab-df-convert');\n",
              "        buttonEl.style.display =\n",
              "          google.colab.kernel.accessAllowed ? 'block' : 'none';\n",
              "\n",
              "        async function convertToInteractive(key) {\n",
              "          const element = document.querySelector('#df-6dab0ebf-b55e-42bc-a810-8cb5d1a8846b');\n",
              "          const dataTable =\n",
              "            await google.colab.kernel.invokeFunction('convertToInteractive',\n",
              "                                                     [key], {});\n",
              "          if (!dataTable) return;\n",
              "\n",
              "          const docLinkHtml = 'Like what you see? Visit the ' +\n",
              "            '<a target=\"_blank\" href=https://colab.research.google.com/notebooks/data_table.ipynb>data table notebook</a>'\n",
              "            + ' to learn more about interactive tables.';\n",
              "          element.innerHTML = '';\n",
              "          dataTable['output_type'] = 'display_data';\n",
              "          await google.colab.output.renderOutput(dataTable, element);\n",
              "          const docLink = document.createElement('div');\n",
              "          docLink.innerHTML = docLinkHtml;\n",
              "          element.appendChild(docLink);\n",
              "        }\n",
              "      </script>\n",
              "    </div>\n",
              "  </div>\n",
              "  "
            ]
          },
          "metadata": {},
          "execution_count": 42
        }
      ]
    },
    {
      "cell_type": "markdown",
      "source": [
        "**Q.3 Which hosts are the busiest and why?**\n",
        " "
      ],
      "metadata": {
        "id": "Z7TJEHAgHnUw"
      }
    },
    {
      "cell_type": "code",
      "source": [
        "top_host=airbnb_data.host_id.value_counts().head(10)\n",
        "top_host"
      ],
      "metadata": {
        "colab": {
          "base_uri": "https://localhost:8080/"
        },
        "id": "Tb1KDxbNHUUz",
        "outputId": "1d6db96a-f12a-4266-f56c-cf87bbfef1c0"
      },
      "execution_count": null,
      "outputs": [
        {
          "output_type": "execute_result",
          "data": {
            "text/plain": [
              "219517861    327\n",
              "107434423    232\n",
              "30283594     121\n",
              "137358866    103\n",
              "16098958      96\n",
              "12243051      96\n",
              "61391963      91\n",
              "22541573      87\n",
              "200380610     65\n",
              "7503643       52\n",
              "Name: host_id, dtype: int64"
            ]
          },
          "metadata": {},
          "execution_count": 43
        }
      ]
    },
    {
      "cell_type": "code",
      "source": [
        "top_host_airbnb_data=pd.DataFrame(top_host)\n",
        "top_host_airbnb_data.reset_index(inplace=True)\n",
        "top_host_airbnb_data.rename(columns={'index':'host_id', 'host_id':'Total_Count'}, inplace=True)\n",
        "top_host_airbnb_data"
      ],
      "metadata": {
        "colab": {
          "base_uri": "https://localhost:8080/",
          "height": 363
        },
        "id": "SiwKwhzxH4lx",
        "outputId": "516b5953-4f5d-4e00-e169-7903248b0b0c"
      },
      "execution_count": null,
      "outputs": [
        {
          "output_type": "execute_result",
          "data": {
            "text/plain": [
              "     host_id  Total_Count\n",
              "0  219517861          327\n",
              "1  107434423          232\n",
              "2   30283594          121\n",
              "3  137358866          103\n",
              "4   16098958           96\n",
              "5   12243051           96\n",
              "6   61391963           91\n",
              "7   22541573           87\n",
              "8  200380610           65\n",
              "9    7503643           52"
            ],
            "text/html": [
              "\n",
              "  <div id=\"df-cd8a9207-eb24-4f2f-b344-580c4375a174\">\n",
              "    <div class=\"colab-df-container\">\n",
              "      <div>\n",
              "<style scoped>\n",
              "    .dataframe tbody tr th:only-of-type {\n",
              "        vertical-align: middle;\n",
              "    }\n",
              "\n",
              "    .dataframe tbody tr th {\n",
              "        vertical-align: top;\n",
              "    }\n",
              "\n",
              "    .dataframe thead th {\n",
              "        text-align: right;\n",
              "    }\n",
              "</style>\n",
              "<table border=\"1\" class=\"dataframe\">\n",
              "  <thead>\n",
              "    <tr style=\"text-align: right;\">\n",
              "      <th></th>\n",
              "      <th>host_id</th>\n",
              "      <th>Total_Count</th>\n",
              "    </tr>\n",
              "  </thead>\n",
              "  <tbody>\n",
              "    <tr>\n",
              "      <th>0</th>\n",
              "      <td>219517861</td>\n",
              "      <td>327</td>\n",
              "    </tr>\n",
              "    <tr>\n",
              "      <th>1</th>\n",
              "      <td>107434423</td>\n",
              "      <td>232</td>\n",
              "    </tr>\n",
              "    <tr>\n",
              "      <th>2</th>\n",
              "      <td>30283594</td>\n",
              "      <td>121</td>\n",
              "    </tr>\n",
              "    <tr>\n",
              "      <th>3</th>\n",
              "      <td>137358866</td>\n",
              "      <td>103</td>\n",
              "    </tr>\n",
              "    <tr>\n",
              "      <th>4</th>\n",
              "      <td>16098958</td>\n",
              "      <td>96</td>\n",
              "    </tr>\n",
              "    <tr>\n",
              "      <th>5</th>\n",
              "      <td>12243051</td>\n",
              "      <td>96</td>\n",
              "    </tr>\n",
              "    <tr>\n",
              "      <th>6</th>\n",
              "      <td>61391963</td>\n",
              "      <td>91</td>\n",
              "    </tr>\n",
              "    <tr>\n",
              "      <th>7</th>\n",
              "      <td>22541573</td>\n",
              "      <td>87</td>\n",
              "    </tr>\n",
              "    <tr>\n",
              "      <th>8</th>\n",
              "      <td>200380610</td>\n",
              "      <td>65</td>\n",
              "    </tr>\n",
              "    <tr>\n",
              "      <th>9</th>\n",
              "      <td>7503643</td>\n",
              "      <td>52</td>\n",
              "    </tr>\n",
              "  </tbody>\n",
              "</table>\n",
              "</div>\n",
              "      <button class=\"colab-df-convert\" onclick=\"convertToInteractive('df-cd8a9207-eb24-4f2f-b344-580c4375a174')\"\n",
              "              title=\"Convert this dataframe to an interactive table.\"\n",
              "              style=\"display:none;\">\n",
              "        \n",
              "  <svg xmlns=\"http://www.w3.org/2000/svg\" height=\"24px\"viewBox=\"0 0 24 24\"\n",
              "       width=\"24px\">\n",
              "    <path d=\"M0 0h24v24H0V0z\" fill=\"none\"/>\n",
              "    <path d=\"M18.56 5.44l.94 2.06.94-2.06 2.06-.94-2.06-.94-.94-2.06-.94 2.06-2.06.94zm-11 1L8.5 8.5l.94-2.06 2.06-.94-2.06-.94L8.5 2.5l-.94 2.06-2.06.94zm10 10l.94 2.06.94-2.06 2.06-.94-2.06-.94-.94-2.06-.94 2.06-2.06.94z\"/><path d=\"M17.41 7.96l-1.37-1.37c-.4-.4-.92-.59-1.43-.59-.52 0-1.04.2-1.43.59L10.3 9.45l-7.72 7.72c-.78.78-.78 2.05 0 2.83L4 21.41c.39.39.9.59 1.41.59.51 0 1.02-.2 1.41-.59l7.78-7.78 2.81-2.81c.8-.78.8-2.07 0-2.86zM5.41 20L4 18.59l7.72-7.72 1.47 1.35L5.41 20z\"/>\n",
              "  </svg>\n",
              "      </button>\n",
              "      \n",
              "  <style>\n",
              "    .colab-df-container {\n",
              "      display:flex;\n",
              "      flex-wrap:wrap;\n",
              "      gap: 12px;\n",
              "    }\n",
              "\n",
              "    .colab-df-convert {\n",
              "      background-color: #E8F0FE;\n",
              "      border: none;\n",
              "      border-radius: 50%;\n",
              "      cursor: pointer;\n",
              "      display: none;\n",
              "      fill: #1967D2;\n",
              "      height: 32px;\n",
              "      padding: 0 0 0 0;\n",
              "      width: 32px;\n",
              "    }\n",
              "\n",
              "    .colab-df-convert:hover {\n",
              "      background-color: #E2EBFA;\n",
              "      box-shadow: 0px 1px 2px rgba(60, 64, 67, 0.3), 0px 1px 3px 1px rgba(60, 64, 67, 0.15);\n",
              "      fill: #174EA6;\n",
              "    }\n",
              "\n",
              "    [theme=dark] .colab-df-convert {\n",
              "      background-color: #3B4455;\n",
              "      fill: #D2E3FC;\n",
              "    }\n",
              "\n",
              "    [theme=dark] .colab-df-convert:hover {\n",
              "      background-color: #434B5C;\n",
              "      box-shadow: 0px 1px 3px 1px rgba(0, 0, 0, 0.15);\n",
              "      filter: drop-shadow(0px 1px 2px rgba(0, 0, 0, 0.3));\n",
              "      fill: #FFFFFF;\n",
              "    }\n",
              "  </style>\n",
              "\n",
              "      <script>\n",
              "        const buttonEl =\n",
              "          document.querySelector('#df-cd8a9207-eb24-4f2f-b344-580c4375a174 button.colab-df-convert');\n",
              "        buttonEl.style.display =\n",
              "          google.colab.kernel.accessAllowed ? 'block' : 'none';\n",
              "\n",
              "        async function convertToInteractive(key) {\n",
              "          const element = document.querySelector('#df-cd8a9207-eb24-4f2f-b344-580c4375a174');\n",
              "          const dataTable =\n",
              "            await google.colab.kernel.invokeFunction('convertToInteractive',\n",
              "                                                     [key], {});\n",
              "          if (!dataTable) return;\n",
              "\n",
              "          const docLinkHtml = 'Like what you see? Visit the ' +\n",
              "            '<a target=\"_blank\" href=https://colab.research.google.com/notebooks/data_table.ipynb>data table notebook</a>'\n",
              "            + ' to learn more about interactive tables.';\n",
              "          element.innerHTML = '';\n",
              "          dataTable['output_type'] = 'display_data';\n",
              "          await google.colab.output.renderOutput(dataTable, element);\n",
              "          const docLink = document.createElement('div');\n",
              "          docLink.innerHTML = docLinkHtml;\n",
              "          element.appendChild(docLink);\n",
              "        }\n",
              "      </script>\n",
              "    </div>\n",
              "  </div>\n",
              "  "
            ]
          },
          "metadata": {},
          "execution_count": 48
        }
      ]
    },
    {
      "cell_type": "code",
      "source": [
        "top_host_check_value=airbnb_data.calculated_host_listings_count.max()\n",
        "top_host_check_value"
      ],
      "metadata": {
        "colab": {
          "base_uri": "https://localhost:8080/"
        },
        "id": "J03ElqskIEgA",
        "outputId": "4ebd25e3-e92f-486e-faec-e8f27ab5f9c9"
      },
      "execution_count": null,
      "outputs": [
        {
          "output_type": "execute_result",
          "data": {
            "text/plain": [
              "327"
            ]
          },
          "metadata": {},
          "execution_count": 45
        }
      ]
    },
    {
      "cell_type": "code",
      "source": [
        "plt.figure(figsize=(15,6))\n",
        "sns.set_style('whitegrid')\n",
        "sns.barplot(x = top_host_airbnb_data['host_id'], y = top_host_airbnb_data['Total_Count'], palette = 'bone',data=top_host_airbnb_data)\n",
        "plt.title('Most Popular listings in NYC')"
      ],
      "metadata": {
        "colab": {
          "base_uri": "https://localhost:8080/",
          "height": 459
        },
        "id": "am1IfThGIXSg",
        "outputId": "060a5f3e-5396-437a-8af9-3f599441ed84"
      },
      "execution_count": null,
      "outputs": [
        {
          "output_type": "execute_result",
          "data": {
            "text/plain": [
              "Text(0.5, 1.0, 'Most Popular listings in NYC')"
            ]
          },
          "metadata": {},
          "execution_count": 55
        },
        {
          "output_type": "display_data",
          "data": {
            "text/plain": [
              "<Figure size 1080x432 with 1 Axes>"
            ],
            "image/png": "[encoded data removed]"
          },
          "metadata": {}
        }
      ]
    },
    {
      "cell_type": "markdown",
      "source": [
        "\n",
        "host_id 219517861 is the busiest"
      ],
      "metadata": {
        "id": "ySMgaqV2OhfO"
      }
    },
    {
      "cell_type": "markdown",
      "source": [
        "**Q 4.Is there any noticeable difference of traffic among different areas and what could be the reason for it?**"
      ],
      "metadata": {
        "id": "47U3jyH0OhhC"
      }
    },
    {
      "cell_type": "code",
      "source": [
        "plt.figure(figsize=(15,6))\n",
        "plt.title(\"Room Type on Neighbourhood Group\")\n",
        "sns.countplot(x=airbnb_data.neighbourhood_group,hue=airbnb_data.room_type)\n",
        "plt.show()\n"
      ],
      "metadata": {
        "colab": {
          "base_uri": "https://localhost:8080/",
          "height": 442
        },
        "id": "fI6xTUHXLVHn",
        "outputId": "c96e6d2e-59c8-4c64-8c18-66ce7cceeb7f"
      },
      "execution_count": null,
      "outputs": [
        {
          "output_type": "display_data",
          "data": {
            "text/plain": [
              "<Figure size 1080x432 with 1 Axes>"
            ],
            "image/png": "[encoded data removed]"
          },
          "metadata": {}
        }
      ]
    },
    {
      "cell_type": "markdown",
      "source": [
        "**Answer**:-The graph shows that the home/apt has the highest traiff in Manhattan \n",
        "\n"
      ],
      "metadata": {
        "id": "Qpb12PoPM5KS"
      }
    },
    {
      "cell_type": "markdown",
      "source": [],
      "metadata": {
        "id": "6Y9oVkQ-OOqv"
      }
    },
    {
      "cell_type": "code",
      "source": [],
      "metadata": {
        "id": "n6Hzl-3XJklt"
      },
      "execution_count": null,
      "outputs": []
    }
  ]
}